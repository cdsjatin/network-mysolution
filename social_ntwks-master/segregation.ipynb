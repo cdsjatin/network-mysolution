{
 "cells": [
  {
   "cell_type": "markdown",
   "metadata": {},
   "source": [
    "# Schelling's Segregation Model"
   ]
  },
  {
   "cell_type": "code",
   "execution_count": 1,
   "metadata": {
    "collapsed": true
   },
   "outputs": [],
   "source": [
    "import numpy as np\n",
    "import scipy as sp\n",
    "import networkx as nx\n",
    "import matplotlib.pyplot as plt\n",
    "%matplotlib inline"
   ]
  },
  {
   "cell_type": "markdown",
   "metadata": {},
   "source": [
    "Before we start, look at [here](http://ncase.me/polygons/)"
   ]
  },
  {
   "cell_type": "markdown",
   "metadata": {},
   "source": [
    "On this seminar we are implementing Schelling's Segregation Model for 2 classes.\n",
    "\n",
    "To recall the model setting:\n",
    "* Each node has a fixed threshold of neighbourhood tolerance. If the threshold is not violated a node is called satisfied\n",
    "* Pick unsatisfied node\n",
    "* Pick a distanation node, s.t. new utility valus is greater than the current one\n",
    "* Move the chosen node to new destination, recalculate all utilities\n",
    "\n",
    "We will run it no Knight Moves Network. However for the sake of demonstration it would be better to run it on Regular Lattice with 8 neighbours"
   ]
  },
  {
   "cell_type": "code",
   "execution_count": 2,
   "metadata": {
    "collapsed": true
   },
   "outputs": [],
   "source": [
    "def GenKnightNetwork(boardSize):\n",
    "    G = nx.Graph()\n",
    "    pos = {}\n",
    "    for row in xrange(boardSize):\n",
    "        for col in xrange(boardSize):\n",
    "            nodeId = row + col*boardSize\n",
    "            pos[nodeId] = np.array([1.0*row/boardSize, 1.0*col/boardSize])\n",
    "            newPos = GetLegalMoves(row, col, boardSize)\n",
    "            for e in newPos:\n",
    "                nid = e[0] + e[1]*boardSize\n",
    "                G.add_edge(nodeId, nid)\n",
    "    return G, pos\n",
    "\n",
    "def GetLegalMoves(x,y,boardSize):\n",
    "    newMoves = []\n",
    "    moveOffsets = [(-1,-2),(-1,2),(-2,-1),(-2,1),\n",
    "                   ( 1,-2),( 1,2),( 2,-1),( 2,1)]\n",
    "    for i in moveOffsets:\n",
    "        newX = x + i[0]\n",
    "        newY = y + i[1]\n",
    "        if isLegalCoord(newX,boardSize) and \\\n",
    "                        isLegalCoord(newY,boardSize):\n",
    "            newMoves.append((newX,newY))\n",
    "    return newMoves\n",
    "\n",
    "def isLegalCoord(x,boardSize):\n",
    "    if x >= 0 and x < boardSize:\n",
    "        return True\n",
    "    else:\n",
    "        return False"
   ]
  },
  {
   "cell_type": "code",
   "execution_count": 3,
   "metadata": {
    "collapsed": true
   },
   "outputs": [],
   "source": [
    "def SegregationModel(A, modelParams):\n",
    "    \n",
    "    # Grabbing model parameters\n",
    "    dens = modelParams.get('density', 0.5)\n",
    "    propA = modelParams.get('propA', 0.5)\n",
    "    thresh = modelParams.get('threshold', 0.5)\n",
    "    maxIters = modelParams.get('maxIters', 100)\n",
    "    utilFunc = modelParams.get('utilFunc', 1)\n",
    "    \n",
    "    # Some initializations\n",
    "    \n",
    "    # Vertices Number\n",
    "    V = A.shape[0]\n",
    "    nAB = np.round(V*dens)\n",
    "    nA = np.round(nAB*propA)\n",
    "    nB = nAB - nA\n",
    "    nE = V - nAB\n",
    "    \n",
    "    # Masks and Indices\n",
    "    vAB,vA,vB,vE = np.zeros((V,1), dtype=bool),np.zeros((V,1), dtype=bool),np.zeros((V,1), dtype=bool),np.zeros((V,1), dtype=bool)\n",
    "\n",
    "    idx = np.random.permutation(V)\n",
    "    idxA = idx[0:nA]\n",
    "    vA[idxA] = 1\n",
    "\n",
    "    idxB = idx[nA:(nAB)]\n",
    "    vB[idxB] = 1\n",
    "\n",
    "    vE = ~(vA | vB)\n",
    "    idxE = idx[(nAB):]\n",
    "\n",
    "    idxAB = np.concatenate((idxA, idxB))\n",
    "    \n",
    "    # Calculate neighourhood types for the 1st step\n",
    "    P = np.empty((V, maxIters))\n",
    "    P[idxA,1] = 1.0*A[idxA,].dot(vB).flatten()/np.sum(A[idxA,], axis=1)\n",
    "    P[idxB,1] = 1.0*A[idxB,].dot(vA).flatten()/np.sum(A[idxB,], axis=1)\n",
    "\n",
    "    \n",
    "    for t in xrange(1, maxIters):\n",
    "        \n",
    "        # Calculate all utilities\n",
    "        utilAll = utilFunc(P[idxAB,t-1], thresh)\n",
    "        \n",
    "        # Check utility state\n",
    "        if np.all(utilAll):\n",
    "            break\n",
    "        else: # Choose node to move\n",
    "            utilCur = True\n",
    "            while utilCur:\n",
    "                idxFrom = np.random.choice(idxAB)\n",
    "                utilCur = utilFunc(P[idxFrom, t-1], thresh)\n",
    "\n",
    "            # Choose candidate node\n",
    "            candP = np.empty((V,)) * np.nan\n",
    "            if idxFrom in idxA:\n",
    "                candP[idxE] = 1.0*A[idxE,].dot(vB).flatten()/np.sum(A[idxE,], axis=1)\n",
    "            else:\n",
    "                candP[idxE] = 1.0*A[idxE,].dot(vA).flatten()/np.sum(A[idxE,], axis=1)\n",
    "            \n",
    "            # Calculate candidate utility\n",
    "            utilCand = utilFunc(candP, thresh)\n",
    "                \n",
    "            # Move node\n",
    "            if np.any(utilCand > utilCur):\n",
    "                idxTo = np.random.choice(np.where(utilCand > utilCur)[0])\n",
    "                if idxFrom in idxA:\n",
    "                    vA[idxFrom], vA[idxTo] = vA[idxTo], vA[idxFrom]\n",
    "                    idxA[idxA == idxFrom] = idxTo\n",
    "                else:\n",
    "                    vB[idxFrom], vB[idxTo] = vB[idxTo], vB[idxFrom]\n",
    "                    idxB[idxB == idxFrom] = idxTo\n",
    "            \n",
    "                idxAB[idxAB == idxFrom], idxE[idxE == idxTo] = idxTo, idxFrom\n",
    "            \n",
    "            # Update neighbourhood state\n",
    "            P[idxA,t] = 1.0*A[idxA,].dot(vB).flatten()/np.sum(A[idxA,], axis=1)\n",
    "            P[idxB,t] = 1.0*A[idxB,].dot(vA).flatten()/np.sum(A[idxB,], axis=1)\n",
    "\n",
    "    print 'Finished on {0} iteration'.format(t)\n",
    "    return vA.astype('double')+vB.astype('double')*2"
   ]
  },
  {
   "cell_type": "code",
   "execution_count": 7,
   "metadata": {
    "collapsed": false
   },
   "outputs": [],
   "source": [
    "# Getting the graph\n",
    "\n",
    "g,pos = GenKnightNetwork(10)\n",
    "A = np.asarray(nx.adj_matrix(g).todense())"
   ]
  },
  {
   "cell_type": "code",
   "execution_count": 9,
   "metadata": {
    "collapsed": false
   },
   "outputs": [
    {
     "name": "stdout",
     "output_type": "stream",
     "text": [
      "Finished on 10 iteration\n"
     ]
    },
    {
     "name": "stderr",
     "output_type": "stream",
     "text": [
      "/home/shestakoff/anaconda/lib/python2.7/site-packages/IPython/kernel/__main__.py:1: RuntimeWarning: invalid value encountered in less\n",
      "  if __name__ == '__main__':\n"
     ]
    },
    {
     "data": {
      "image/png": "[encoded data removed]",
      "text/plain": [
       "<matplotlib.figure.Figure at 0x7f2399cbb050>"
      ]
     },
     "metadata": {},
     "output_type": "display_data"
    }
   ],
   "source": [
    "utilFunc = lambda x,p: x<p\n",
    "\n",
    "modelParams = {}\n",
    "modelParams['density'] = 0.5\n",
    "modelParams['propA'] = 0.5\n",
    "modelParams['threshold'] = 0.5\n",
    "modelParams['maxIters'] = 100\n",
    "modelParams['utilFunc'] = utilFunc\n",
    "\n",
    "col = SegregationModel(A, modelParams)\n",
    "\n",
    "nx.draw(g, pos=pos, node_color=col)"
   ]
  },
  {
   "cell_type": "markdown",
   "metadata": {},
   "source": [
    "### Task"
   ]
  },
  {
   "cell_type": "markdown",
   "metadata": {},
   "source": [
    "Implement Freeman's segregation, Schilling’s mixing coefficients and Assortative mixing coefficient.\n",
    "Calculate values results for each iteration of the model."
   ]
  }
 ],
 "metadata": {
  "kernelspec": {
   "display_name": "Python 2",
   "language": "python",
   "name": "python2"
  },
  "language_info": {
   "codemirror_mode": {
    "name": "ipython",
    "version": 2
   },
   "file_extension": ".py",
   "mimetype": "text/x-python",
   "name": "python",
   "nbconvert_exporter": "python",
   "pygments_lexer": "ipython2",
   "version": "2.7.10"
  }
 },
 "nbformat": 4,
 "nbformat_minor": 0
}
