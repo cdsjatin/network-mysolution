{
 "metadata": {
  "name": "",
  "signature": "sha256:138c1208e4b63e7ae70775d3af9b4a614f29aef3d302e4bb7b0613f3f0e9ea77"
 },
 "nbformat": 3,
 "nbformat_minor": 0,
 "worksheets": [
  {
   "cells": [
    {
     "cell_type": "heading",
     "level": 1,
     "metadata": {},
     "source": [
      "<center>Structural Analysis and Visualization of Networks</center>"
     ]
    },
    {
     "cell_type": "heading",
     "level": 2,
     "metadata": {},
     "source": [
      "<center>Home Assignment #1: Power law</center>"
     ]
    },
    {
     "cell_type": "heading",
     "level": 3,
     "metadata": {},
     "source": [
      "<center>Student: *{Your Name}*</center>"
     ]
    },
    {
     "cell_type": "heading",
     "level": 4,
     "metadata": {},
     "source": [
      "<hr />\n",
      "General Information"
     ]
    },
    {
     "cell_type": "markdown",
     "metadata": {},
     "source": [
      "**Due Date:** 28.01.2015 23:59 <br \\>\n",
      "**Late submission policy:** -0.2 points per day <br \\>\n",
      "\n",
      "\n",
      "Please send your reports to <mailto:leonid.e.zhukov@gmail.com> and <mailto:shestakoffandrey@gmail.com> with message subject of the following structure:<br \\> **[HSE Networks 2015] *{LastName}* *{First Name}* HA*{Number}***\n",
      "\n",
      "Support your computations with figures and comments. <br \\>\n",
      "If you are using IPython Notebook you may use this file as a starting point of your report.<br \\>\n",
      "<br \\>\n",
      "<hr \\>"
     ]
    },
    {
     "cell_type": "heading",
     "level": 2,
     "metadata": {},
     "source": [
      "Problems"
     ]
    },
    {
     "cell_type": "heading",
     "level": 3,
     "metadata": {},
     "source": [
      "Task 1."
     ]
    },
    {
     "cell_type": "markdown",
     "metadata": {},
     "source": [
      "Load [wordcounts](http://www.leonidzhukov.net/hse/2015/networks/data/wordcounts.txt) dataset. \n",
      "1. Check that Zipf's Law holds\n",
      "2. Assuming that the data is distributed according to the Power Law, find\n",
      " * $\\alpha$ of the distribution\n",
      " * mean sample variance $\\sigma^2$\n",
      "3. Produce summary of the frequencies: min, max, mean, median"
     ]
    },
    {
     "cell_type": "code",
     "collapsed": false,
     "input": [
      "# Start your code here\n",
      "#\n",
      "#\n",
      "#"
     ],
     "language": "python",
     "metadata": {},
     "outputs": []
    },
    {
     "cell_type": "heading",
     "level": 3,
     "metadata": {},
     "source": [
      "<hr />\n",
      "Task 2."
     ]
    },
    {
     "cell_type": "markdown",
     "metadata": {},
     "source": [
      "Find and plot PDF and CDF for the following networks:\n",
      "* [Routing network](http://www.leonidzhukov.net/hse/2015/networks/data/network.txt)\n",
      "* [Web graph](http://www.leonidzhukov.net/hse/2015/networks/data/web_Stanford.txt)\n",
      "* [Facebook network](http://www.leonidzhukov.net/hse/2015/networks/data/fb_Princeton.txt)\n",
      "\n",
      "\n",
      "1. Are they correspondent to power law?\n",
      "2. Find max and mean values of incoming and outcoming node degrees\n",
      "3. Find $\\alpha$ via Maximum Likelihood and calculate $\\sigma^2$\n",
      "4. Determine $x_{min}$ via Kolmogorov-Smirnov test"
     ]
    },
    {
     "cell_type": "code",
     "collapsed": false,
     "input": [
      "# Start your code here\n",
      "#\n",
      "#\n",
      "#"
     ],
     "language": "python",
     "metadata": {},
     "outputs": []
    }
   ],
   "metadata": {}
  }
 ]
}