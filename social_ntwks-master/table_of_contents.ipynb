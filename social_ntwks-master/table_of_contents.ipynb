{
 "cells": [
  {
   "cell_type": "markdown",
   "metadata": {},
   "source": [
    "# <center>Structural Analysis and Visualization of Networks</center>"
   ]
  },
  {
   "cell_type": "markdown",
   "metadata": {},
   "source": [
    "<center>Course web-page: http://www.leonidzhukov.net/hse/2015/networks/</center>\n",
    "<hr />"
   ]
  },
  {
   "cell_type": "markdown",
   "metadata": {},
   "source": [
    "## Table of Contents"
   ]
  },
  {
   "cell_type": "markdown",
   "metadata": {},
   "source": [
    "### Module 4"
   ]
  },
  {
   "cell_type": "markdown",
   "metadata": {},
   "source": [
    "#### Labs"
   ]
  },
  {
   "cell_type": "markdown",
   "metadata": {},
   "source": [
    "###### [1. Random Walk Modelling [2015.03.31]](http://nbviewer.ipython.org/github/shestakoff/social_ntwks/blob/master/random_walk.ipynb) <br /> <br /> [2. Epidemics [2015.04.07]](http://nbviewer.ipython.org/github/shestakoff/social_ntwks/blob/master/epidemics.ipynb) <br /> <br /> [3. Epidemics on Networks [2015.04.17]](http://nbviewer.ipython.org/github/shestakoff/social_ntwks/blob/master/epidemics_ntwrks.ipynb) <br /> <br /> [4. Threshold Model [2015.04.28]](http://nbviewer.ipython.org/github/shestakoff/social_ntwks/blob/master/threshold.ipynb) <br /> <br />[5. Social Learning [2015.05.12]](http://nbviewer.ipython.org/github/shestakoff/social_ntwks/blob/master/social_learning.ipynb)<br /> <br />[6. Node-Link Prediction [2015.05.26]](http://nbviewer.ipython.org/github/shestakoff/social_ntwks/blob/master/prediction.ipynb)<br /> <br />[7. Segregation [2015.06.02]](http://nbviewer.ipython.org/github/shestakoff/social_ntwks/blob/master/segregation.ipynb)<br /> <br />"
   ]
  },
  {
   "cell_type": "markdown",
   "metadata": {},
   "source": [
    "#### Projects"
   ]
  },
  {
   "cell_type": "markdown",
   "metadata": {},
   "source": [
    "###### [Project 1 [Due date 2015.05.17]](http://nbviewer.ipython.org/github/shestakoff/social_ntwks/blob/master/networks_project1.ipynb) <br /> <br /> [Project 2 [**Deadline** 2015.06.21]](http://nbviewer.ipython.org/github/shestakoff/social_ntwks/blob/master/networks_project2.ipynb) <br /> <br /> "
   ]
  },
  {
   "cell_type": "markdown",
   "metadata": {},
   "source": [
    "\n",
    "<hr />"
   ]
  },
  {
   "cell_type": "markdown",
   "metadata": {},
   "source": [
    "### Module 3"
   ]
  },
  {
   "cell_type": "markdown",
   "metadata": {},
   "source": [
    "#### *[Results (updated 2015.03.28)](https://drive.google.com/file/d/0B0QWEJMlsxfRalNpSUQzdWhUNGM/view?usp=sharing)*"
   ]
  },
  {
   "cell_type": "markdown",
   "metadata": {},
   "source": [
    "#### Labs"
   ]
  },
  {
   "cell_type": "markdown",
   "metadata": {},
   "source": [
    "##### [1. Setting up your environment [2015.01.15]](http://nbviewer.ipython.org/github/shestakoff/social_ntwks/blob/master/setting_envrmt.ipynb) <br /> <br /> [2. Power Law [2015.01.20]](http://nbviewer.ipython.org/github/shestakoff/social_ntwks/blob/master/power_law.ipynb) <br /> <br /> [3. Random models [2015.01.27]](http://nbviewer.ipython.org/github/shestakoff/social_ntwks/blob/master/rand_graph.ipynb) <br /> <br /> [4. Small world models [2015.02.03]](http://nbviewer.ipython.org/github/shestakoff/social_ntwks/blob/master/small_world_model.ipynb) <br /> <br /> [5. Centralities [2015.02.10]](http://nbviewer.ipython.org/github/shestakoff/social_ntwks/blob/master/centralities.ipynb) <br /> <br /> [6. Page Rank and HITS [2015.02.17]](http://nbviewer.ipython.org/github/shestakoff/social_ntwks/blob/master/page_rank_hits.ipynb) <br /> <br /> [7. Structural Similarity [2015.02.24]](http://nbviewer.ipython.org/github/shestakoff/social_ntwks/blob/master/struct_sim.ipynb) <br /> <br /> [8. Dense Subgroups in Networks and Motif counting [2015.03.03]](http://nbviewer.ipython.org/github/shestakoff/social_ntwks/blob/master/dense_motifs.ipynb) <br /> <br /> [9. Community detection algorithms [2015.03.10]](http://nbviewer.ipython.org/github/shestakoff/social_ntwks/blob/master/communities.ipynb) <br /> <br /> [10. Community detection algorithms pt 2 [2015.03.17]](http://nbviewer.ipython.org/github/shestakoff/social_ntwks/blob/master/communities_2.ipynb)"
   ]
  },
  {
   "cell_type": "markdown",
   "metadata": {},
   "source": [
    "#### Tutorials"
   ]
  },
  {
   "cell_type": "markdown",
   "metadata": {},
   "source": [
    "##### [1. Loading your social network data](http://nbviewer.ipython.org/github/shestakoff/social_ntwks/blob/master/vk_api.ipynb) <br /> <br />"
   ]
  },
  {
   "cell_type": "markdown",
   "metadata": {},
   "source": [
    "####  Home Assignments"
   ]
  },
  {
   "cell_type": "markdown",
   "metadata": {},
   "source": [
    "###### [1. Power Law [Due date 2015.01.28]](http://nbviewer.ipython.org/github/shestakoff/social_ntwks/blob/master/networks_ha1.ipynb) <br /> <br /> [2. Network models [Due date 2015.02.18]](http://nbviewer.ipython.org/github/shestakoff/social_ntwks/blob/master/networks_ha2.ipynb) <br /> <br /> [3. Centralities and Assortativity [Due date 2015.03.09]](http://nbviewer.ipython.org/github/shestakoff/social_ntwks/blob/master/networks_ha3.ipynb) <br /> <br /> [4. Community Detection Algorithms [Due date 2015.03.19]](http://nbviewer.ipython.org/github/shestakoff/social_ntwks/blob/master/networks_ha4.ipynb) <br /> <br />"
   ]
  }
 ],
 "metadata": {
  "kernelspec": {
   "display_name": "Python 2",
   "language": "python",
   "name": "python2"
  },
  "language_info": {
   "codemirror_mode": {
    "name": "ipython",
    "version": 2
   },
   "file_extension": ".py",
   "mimetype": "text/x-python",
   "name": "python",
   "nbconvert_exporter": "python",
   "pygments_lexer": "ipython2",
   "version": "2.7.10"
  }
 },
 "nbformat": 4,
 "nbformat_minor": 0
}
